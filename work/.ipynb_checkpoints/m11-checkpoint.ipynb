{
 "cells": [
  {
   "cell_type": "code",
   "execution_count": 7,
   "metadata": {},
   "outputs": [
    {
     "name": "stdout",
     "output_type": "stream",
     "text": [
      "ok\n",
      "dynamodb.Table(name='users') 資料表: ACTIVE \n",
      "================================\n",
      "\n",
      "讀取資料庫: 0 項 物件\n",
      "將json資料導入movie3資料表中:\n",
      "================================\n",
      "[{'age': 78, 'username': 'linA-MA', 'last_name': 'ggfamily'}, {'age': 87, 'username': 'linA-Zoa', 'last_name': 'ggfamily'}, {'age': 17, 'username': 'linA-Di', 'last_name': 'ggfamily'}]\n"
     ]
    },
    {
     "ename": "TypeError",
     "evalue": "string indices must be integers",
     "output_type": "error",
     "traceback": [
      "\u001b[0;31m---------------------------------------------------------------------------\u001b[0m",
      "\u001b[0;31mTypeError\u001b[0m                                 Traceback (most recent call last)",
      "\u001b[0;32m<ipython-input-7-827bec50bba3>\u001b[0m in \u001b[0;36m<module>\u001b[0;34m\u001b[0m\n\u001b[1;32m     58\u001b[0m         \u001b[0mage\u001b[0m \u001b[0;34m=\u001b[0m \u001b[0mint\u001b[0m\u001b[0;34m(\u001b[0m\u001b[0musername\u001b[0m\u001b[0;34m[\u001b[0m\u001b[0;34m'age'\u001b[0m\u001b[0;34m]\u001b[0m\u001b[0;34m)\u001b[0m\u001b[0;34m\u001b[0m\u001b[0;34m\u001b[0m\u001b[0m\n\u001b[1;32m     59\u001b[0m         \u001b[0musername\u001b[0m \u001b[0;34m=\u001b[0m \u001b[0musername\u001b[0m\u001b[0;34m[\u001b[0m\u001b[0;34m'username'\u001b[0m\u001b[0;34m]\u001b[0m\u001b[0;34m\u001b[0m\u001b[0;34m\u001b[0m\u001b[0m\n\u001b[0;32m---> 60\u001b[0;31m         \u001b[0mlast_name\u001b[0m \u001b[0;34m=\u001b[0m \u001b[0musername\u001b[0m\u001b[0;34m[\u001b[0m\u001b[0;34m'last_name'\u001b[0m\u001b[0;34m]\u001b[0m\u001b[0;34m\u001b[0m\u001b[0;34m\u001b[0m\u001b[0m\n\u001b[0m\u001b[1;32m     61\u001b[0m         table.put_item(\n\u001b[1;32m     62\u001b[0m            \u001b[0mItem\u001b[0m\u001b[0;34m=\u001b[0m\u001b[0;34m{\u001b[0m\u001b[0;34m'age'\u001b[0m\u001b[0;34m:\u001b[0m \u001b[0mage\u001b[0m\u001b[0;34m,\u001b[0m\u001b[0;34m'username'\u001b[0m\u001b[0;34m:\u001b[0m \u001b[0musername\u001b[0m\u001b[0;34m,\u001b[0m\u001b[0;34m'last_name'\u001b[0m\u001b[0;34m:\u001b[0m \u001b[0mlast_name\u001b[0m\u001b[0;34m,\u001b[0m\u001b[0;34m}\u001b[0m\u001b[0;34m\u001b[0m\u001b[0;34m\u001b[0m\u001b[0m\n",
      "\u001b[0;31mTypeError\u001b[0m: string indices must be integers"
     ]
    }
   ],
   "source": [
    "import boto3\n",
    "import os\n",
    "import json\n",
    "import decimal\n",
    "# Get the service resource.\n",
    "dynamodb = boto3.resource('dynamodb',region_name=os.environ[\"region_name\"],endpoint_url=\"http://cc104.dynamodb.local:8000\",aws_access_key_id=os.environ[\"aws_access_key_id\"],aws_secret_access_key=os.environ[\"aws_secret_access_key\"])\n",
    "\n",
    "print(\"ok\")\n",
    "\n",
    "# Create the DynamoDB table.\n",
    "try:\n",
    "    table = dynamodb.create_table(\n",
    "        TableName='users',\n",
    "        KeySchema=[\n",
    "            \n",
    "            \n",
    "            {\n",
    "                'AttributeName': 'age',\n",
    "                'KeyType': 'HASH'\n",
    "            },\n",
    "            {\n",
    "                'AttributeName': 'last_name',\n",
    "                'KeyType': 'RANGE'\n",
    "            }\n",
    "        ],\n",
    "        AttributeDefinitions=[\n",
    "            {\n",
    "                'AttributeName': 'age',\n",
    "                'AttributeType': 'N'\n",
    "            },\n",
    "            {\n",
    "                'AttributeName': 'last_name',\n",
    "                'AttributeType': 'S'\n",
    "            },\n",
    "\n",
    "        ],\n",
    "        ProvisionedThroughput={\n",
    "            'ReadCapacityUnits': 5,\n",
    "            'WriteCapacityUnits': 5\n",
    "        }\n",
    "    )\n",
    "    table = dynamodb.Table('users')\n",
    "    print(table,\"資料表:\", table.table_status,\"\\n================================\\n\")\n",
    "\n",
    "except Exception as err:    \n",
    "    table = dynamodb.Table('users')\n",
    "    print(table,\"資料表:\", table.table_status,\"\\n================================\\n\")\n",
    "\n",
    "print(\"讀取資料庫:\",table.item_count,\"項 物件\")\n",
    "\n",
    "table = dynamodb.Table('users')\n",
    "# 載入JSON資料，新增到資料表中\n",
    "print(\"將json資料導入movie3資料表中:\\n================================\")\n",
    "with open(\"users.json\") as json_file:\n",
    "    users = json.load(json_file, parse_float = decimal.Decimal)\n",
    "    print(users)\n",
    "    for username in users:\n",
    "        age = int(username['age'])\n",
    "        username = str(username['username'])\n",
    "        last_name = str(username['last_name'])\n",
    "        table.put_item(\n",
    "           Item={'age': age,'username': username,'last_name': last_name,}\n",
    "        )\n",
    "        print(username,last_name,\"....新增成功\")\n",
    "print(\"================================\")\n"
   ]
  },
  {
   "cell_type": "code",
   "execution_count": null,
   "metadata": {},
   "outputs": [],
   "source": []
  },
  {
   "cell_type": "code",
   "execution_count": null,
   "metadata": {},
   "outputs": [],
   "source": []
  }
 ],
 "metadata": {
  "kernelspec": {
   "display_name": "Python 3",
   "language": "python",
   "name": "python3"
  },
  "language_info": {
   "codemirror_mode": {
    "name": "ipython",
    "version": 3
   },
   "file_extension": ".py",
   "mimetype": "text/x-python",
   "name": "python",
   "nbconvert_exporter": "python",
   "pygments_lexer": "ipython3",
   "version": "3.7.1"
  }
 },
 "nbformat": 4,
 "nbformat_minor": 2
}
